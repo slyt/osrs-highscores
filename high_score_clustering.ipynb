{
 "cells": [
  {
   "cell_type": "markdown",
   "metadata": {},
   "source": [
    "# OSRS High Score Clustering\n",
    "This notebook shows the cluster's of account based on their experience from Old School Runescape (OSRS).\n",
    "\n",
    "The theory is that unique accounts will be displayed by their own clusters whereas mains and pures will be displayed in other clusters."
   ]
  },
  {
   "cell_type": "code",
   "execution_count": null,
   "metadata": {},
   "outputs": [],
   "source": [
    "# TODO:\n",
    "# Get player name and experience (xp) in every skill from OSRS\n",
    "# Parse xp into pandas dataframe\n",
    "# Run k-means clustering on xp and plot the results. \n",
    "# Correlate size of the points in the cluster with the number of elements in the cluster. \n",
    "#   Or rather, points that are far from cluster centers are larger. This will help to detect unique accounts.\n",
    "\n",
    "\n",
    "import pandas as pd\n",
    "from osrs_highscores import Highscores\n",
    "from osrs_highscores import Rankings\n",
    "\n",
    "def main():\n",
    "    use_pickle = True\n",
    "\n",
    "    if not use_pickle:\n",
    "        print(\"Not using pickle file.\")\n",
    "    else:\n",
    "        print(\"Using pickle file.\")\n",
    "\n",
    "\n",
    "if __name__ == '__main__':\n",
    "    main()\n",
    "\n",
    "\n",
    " \n"
   ]
  }
 ],
 "metadata": {
  "interpreter": {
   "hash": "71249dcde740d75272a77db5bfa63d6b4d67024366b0691d1a33f3a4947f67d9"
  },
  "kernelspec": {
   "display_name": "Python 3.7.9 64-bit ('env': venv)",
   "language": "python",
   "name": "python3"
  },
  "language_info": {
   "name": "python",
   "version": "3.7.9"
  },
  "orig_nbformat": 4
 },
 "nbformat": 4,
 "nbformat_minor": 2
}
